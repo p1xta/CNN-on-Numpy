{
 "cells": [
  {
   "cell_type": "code",
   "execution_count": 1,
   "id": "e45b0d14",
   "metadata": {},
   "outputs": [],
   "source": [
    "import numpy as np\n",
    "import matplotlib.pyplot as plt\n",
    "from sklearn.datasets import fetch_openml\n",
    "from sklearn.model_selection import train_test_split\n",
    "import pickle\n",
    "\n",
    "from src.tensor import Tensor\n",
    "from src.activation import ReLU\n",
    "from src.loss import CrossEntropy\n",
    "from src.module import Linear, Conv2d, ResidualBlock, Flatten\n",
    "from src.model import Sequential\n",
    "from src.optim import SGD\n",
    "from src.metrics import Accuracy, Precision, Recall"
   ]
  },
  {
   "cell_type": "code",
   "execution_count": 3,
   "id": "3c6dc9cf",
   "metadata": {},
   "outputs": [],
   "source": [
    "X, y = fetch_openml('mnist_784', version=1, return_X_y=True, as_frame=False)\n",
    "\n",
    "X = X.astype(np.float32)[:20000]\n",
    "y = y.astype(np.int32)[:20000]\n",
    "\n",
    "X = X/255.0\n",
    "X = X.reshape(-1, 1, 28, 28)\n",
    "\n",
    "X_train, X_test, y_train, y_test = train_test_split(X, y, test_size=0.2)"
   ]
  },
  {
   "cell_type": "code",
   "execution_count": null,
   "id": "b71f8c74",
   "metadata": {},
   "outputs": [
    {
     "name": "stdout",
     "output_type": "stream",
     "text": [
      "(20000,)\n",
      "(20000, 1, 28, 28)\n"
     ]
    }
   ],
   "source": [
    "print(y.shape)\n",
    "print(X.shape)"
   ]
  },
  {
   "cell_type": "code",
   "execution_count": null,
   "id": "828935fb",
   "metadata": {},
   "outputs": [],
   "source": [
    "EPOCHS = 3\n",
    "LR = 1e-2\n",
    "BATCH_SIZE = 64"
   ]
  },
  {
   "cell_type": "code",
   "execution_count": null,
   "id": "2ff3b364",
   "metadata": {},
   "outputs": [],
   "source": [
    "resnet_model = Sequential(layers=[\n",
    "                Conv2d(in_channels=1, out_channels=4, kernel_size=3, stride=1, padding=1),\n",
    "                ReLU(),\n",
    "                ResidualBlock(4,4),\n",
    "                Conv2d(in_channels=4, out_channels=8, kernel_size=3, stride=1, padding=1),\n",
    "                ReLU(),\n",
    "                ResidualBlock(8,8),\n",
    "                Conv2d(in_channels=8, out_channels=16, kernel_size=3, stride=2, padding=1),\n",
    "                ReLU(),\n",
    "                Flatten(),\n",
    "                Linear(in_features=16*14*14, out_features=128),\n",
    "                ReLU(),\n",
    "                Linear(in_features=128, out_features=10)\n",
    "        ])"
   ]
  },
  {
   "cell_type": "code",
   "execution_count": null,
   "id": "ef57f1c2",
   "metadata": {},
   "outputs": [],
   "source": [
    "loss_fn = CrossEntropy()\n",
    "optimizer = SGD(params=resnet_model.params(), lr=LR)"
   ]
  },
  {
   "cell_type": "code",
   "execution_count": null,
   "id": "bf09240b",
   "metadata": {},
   "outputs": [
    {
     "name": "stdout",
     "output_type": "stream",
     "text": [
      "0.037382044792175294\n",
      "0.03638659708201885\n",
      "0.035683496495087945\n",
      "0.03316223245114088\n",
      "0.02884095248579979\n",
      "0.02558138480720421\n",
      "0.02299213385209441\n",
      "0.020892300269333645\n",
      "0.01925242169967128\n",
      "0.017749765468295663\n",
      "0.016570966112935407\n",
      "0.015589218062426274\n",
      "Epoch 1/3, Average Loss: 0.9673\n",
      "0.0036734107229858637\n",
      "0.0038255406497046352\n",
      "0.003918652065719167\n",
      "0.004023912278935313\n",
      "0.00390186161827296\n",
      "0.003777862909870843\n",
      "0.00373469492986\n",
      "0.0037291216864832675\n",
      "0.0036510969509577587\n",
      "0.0035656371505465357\n",
      "0.00346738529603251\n",
      "0.0034096592012792825\n",
      "Epoch 2/3, Average Loss: 0.2151\n",
      "0.002252399795688689\n",
      "0.0023564676268142647\n",
      "0.0022640353893317905\n",
      "0.0023337935139716138\n",
      "0.0023552300675073637\n",
      "0.0023901559925676944\n",
      "0.0023117200369181645\n",
      "0.002251836383002228\n",
      "0.002207337004559425\n",
      "0.0022098733632010406\n",
      "0.0021792850567726417\n",
      "0.0021870578224479687\n",
      "Epoch 3/3, Average Loss: 0.1389\n"
     ]
    }
   ],
   "source": [
    "num_samples = X.shape[0]\n",
    "\n",
    "for epoch in range(EPOCHS):\n",
    "    total_loss = 0\n",
    "    num_batches = 0\n",
    "    \n",
    "    indices = np.random.permutation(num_samples)\n",
    "    X_shuffled = X[indices]\n",
    "    y_shuffled = y[indices]\n",
    "    \n",
    "    for i in range(0, num_samples, BATCH_SIZE):\n",
    "        batch_indices = indices[i:i+BATCH_SIZE]\n",
    "        X_batch = X[batch_indices]\n",
    "        y_batch = y[batch_indices]\n",
    "        \n",
    "        X_batch = Tensor(X_batch)\n",
    "        y_batch = Tensor(y_batch)\n",
    "        outputs = resnet_model(X_batch)\n",
    "        loss = loss_fn(outputs, y_batch)\n",
    "        \n",
    "        optimizer.zero_grad()\n",
    "        loss.backward()\n",
    "        optimizer.step()\n",
    "        \n",
    "        total_loss += loss.data.item()\n",
    "        num_batches += 1\n",
    "        if (i % 200 == 0 and i != 0):\n",
    "            print(total_loss/i)\n",
    "    \n",
    "    avg_loss = total_loss / num_batches\n",
    "    print(f\"Epoch {epoch+1}/{EPOCHS}, Average Loss: {avg_loss:.4f}\")"
   ]
  },
  {
   "cell_type": "code",
   "execution_count": null,
   "id": "0035e79e",
   "metadata": {},
   "outputs": [],
   "source": [
    "def show_predictions(model, images, labels, num_images):\n",
    "    if isinstance(images, Tensor):\n",
    "        images_np = images.data\n",
    "    else:\n",
    "        images_np = images\n",
    "\n",
    "    if isinstance(labels, Tensor):\n",
    "        labels_np = labels.data\n",
    "    else:\n",
    "        labels_np = labels\n",
    "\n",
    "    total = images_np.shape[0]\n",
    "    indices = np.random.choice(total, num_images, replace=False)\n",
    "\n",
    "    sample_images = images_np[indices]\n",
    "    sample_labels = labels_np[indices]\n",
    "\n",
    "    x = Tensor(sample_images, requires_grad=False)\n",
    "\n",
    "    outputs = model(x)\n",
    "    preds = np.argmax(outputs.data, axis=1)\n",
    "    print(preds)\n",
    "\n",
    "    plt.figure(figsize=(num_images * 1.5, 3))\n",
    "    for i in range(num_images):\n",
    "        plt.subplot(1, num_images, i + 1)\n",
    "        plt.imshow(sample_images[i][0], cmap='gray')\n",
    "        plt.title(f\"Pred: {preds[i]}\\nTrue: {sample_labels[i]}\")\n",
    "        plt.axis('off')\n",
    "\n",
    "    plt.tight_layout()\n",
    "    plt.show()"
   ]
  },
  {
   "cell_type": "code",
   "execution_count": null,
   "id": "3adb8ad9",
   "metadata": {},
   "outputs": [],
   "source": [
    "# with open(\"model.pkl\", \"rb\") as f:\n",
    "#     resnet_model = pickle.load(f)"
   ]
  },
  {
   "cell_type": "code",
   "execution_count": null,
   "id": "023cbbfc",
   "metadata": {},
   "outputs": [
    {
     "name": "stdout",
     "output_type": "stream",
     "text": [
      "[5 4 2 9 6 9 4 2 6 3]\n"
     ]
    },
    {
     "data": {
      "image/png": "[encoded data removed]",
      "text/plain": [
       "<Figure size 1500x300 with 10 Axes>"
      ]
     },
     "metadata": {},
     "output_type": "display_data"
    }
   ],
   "source": [
    "show_predictions(resnet_model, X_test, y_test, num_images=10)"
   ]
  },
  {
   "cell_type": "code",
   "execution_count": null,
   "id": "2307ce93",
   "metadata": {},
   "outputs": [],
   "source": [
    "def evaluate_model(model, images, labels):\n",
    "    all_preds = []\n",
    "    all_labels = []\n",
    "\n",
    "    for i in range(0, len(images), BATCH_SIZE):\n",
    "        batch_imgs = images[i:i+BATCH_SIZE]\n",
    "        batch_labels = labels[i:i+BATCH_SIZE]\n",
    "\n",
    "        batch_tensor = Tensor(batch_imgs, requires_grad=False)\n",
    "        outputs = model(batch_tensor)\n",
    "        preds = np.argmax(outputs.data, axis=1)\n",
    "\n",
    "        all_preds.append(preds)\n",
    "        all_labels.append(batch_labels)\n",
    "\n",
    "    all_preds = np.concatenate(all_preds)\n",
    "    all_labels = np.concatenate(all_labels)\n",
    "\n",
    "    accuracy = Accuracy(all_preds, all_labels)\n",
    "    precision = Precision(all_preds, all_labels)\n",
    "    recall = Recall(all_preds, all_labels)\n",
    "\n",
    "    print(f\"Accuracy: {accuracy:.4f}\")\n",
    "    print(f\"Precision: {precision:.4f}\")\n",
    "    print(f\"Recall: {recall:.4f}\")"
   ]
  },
  {
   "cell_type": "code",
   "execution_count": null,
   "id": "70ee9d39",
   "metadata": {},
   "outputs": [
    {
     "name": "stdout",
     "output_type": "stream",
     "text": [
      "Accuracy: 0.9645\n",
      "Precision: 0.9658\n",
      "Recall: 0.9630\n"
     ]
    }
   ],
   "source": [
    "evaluate_model(resnet_model, X_test, y_test)"
   ]
  }
 ],
 "metadata": {
  "kernelspec": {
   "display_name": "NN kernel",
   "language": "python",
   "name": "3_lab_nn"
  },
  "language_info": {
   "codemirror_mode": {
    "name": "ipython",
    "version": 3
   },
   "file_extension": ".py",
   "mimetype": "text/x-python",
   "name": "python",
   "nbconvert_exporter": "python",
   "pygments_lexer": "ipython3",
   "version": "3.10.12"
  }
 },
 "nbformat": 4,
 "nbformat_minor": 5
}
